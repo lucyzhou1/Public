{
 "cells": [
  {
   "cell_type": "markdown",
   "id": "b551602d",
   "metadata": {},
   "source": [
    "1. Describe how the posterior predictive distribution is created for mixture models\n",
    "\n",
    "Sample from the posteiror chain randomly, and create a normal mixture model based on them. Find the normal distrubutions of the parameters like means and standard derivatives, and weight them so that the distributions sum to one. Then plot a histogram, all the samples drawn and point wide averages.\n",
    "Repeat the process for a number a times."
   ]
  },
  {
   "cell_type": "markdown",
   "id": "86e95095",
   "metadata": {},
   "source": [
    "2. Describe how the posterior predictive distribution is created in general\n",
    "\n",
    "It involves repaetitive sampling from a posterior chain, integrate out paramters and plot a histogram, point wide averages and individual samples."
   ]
  },
  {
   "cell_type": "markdown",
   "id": "3f24c435",
   "metadata": {},
   "source": [
    "3. Have glance through this and then describe how, if you were doing a regression of on but had some missing values, you could perform a Bayesian analysis without throwing away the rows with missing values in X\n",
    "\n",
    "I can treat the missing values as parameters and fill in the missing values with samples from the posterior distributions. Do pior and posetrior analysis as if they're parameters."
   ]
  },
  {
   "cell_type": "code",
   "execution_count": null,
   "id": "410983a3",
   "metadata": {},
   "outputs": [],
   "source": [
    "AI: I asked AI to explain some codes"
   ]
  }
 ],
 "metadata": {
  "kernelspec": {
   "display_name": "Python 3 (ipykernel)",
   "language": "python",
   "name": "python3"
  },
  "language_info": {
   "codemirror_mode": {
    "name": "ipython",
    "version": 3
   },
   "file_extension": ".py",
   "mimetype": "text/x-python",
   "name": "python",
   "nbconvert_exporter": "python",
   "pygments_lexer": "ipython3",
   "version": "3.11.6"
  }
 },
 "nbformat": 4,
 "nbformat_minor": 5
}
