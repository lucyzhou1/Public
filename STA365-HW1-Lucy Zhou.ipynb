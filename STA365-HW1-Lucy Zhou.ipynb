{
 "cells": [
  {
   "cell_type": "code",
   "execution_count": 19,
   "id": "f19209d2",
   "metadata": {},
   "outputs": [
    {
     "data": {
      "text/plain": [
       "array([1])"
      ]
     },
     "execution_count": 19,
     "metadata": {},
     "output_type": "execute_result"
    }
   ],
   "source": [
    "from scipy import stats\n",
    "stats.binom(n=1,p=0.5).rvs(size=1) #random variable sample\n",
    "#stats.bernoulli(p=0.5).rvs(size=1)"
   ]
  },
  {
   "cell_type": "code",
   "execution_count": 10,
   "id": "04b80f76",
   "metadata": {},
   "outputs": [
    {
     "name": "stdout",
     "output_type": "stream",
     "text": [
      "I print when `i` is 1\n",
      "I print when `i` is 2\n",
      "I print when `i` is 4\n",
      "I print when `i` is 5\n",
      "I print when `i` is 6\n",
      "I print when `i` is 7\n",
      "I print when `i` is 8\n",
      "I print when `i` is 9\n"
     ]
    }
   ],
   "source": [
    "for i in range(10):\n",
    "    if stats.binom(n=1,p=0.5).rvs(size=1) == 1:\n",
    "        print('I print when `i` is', i)"
   ]
  },
  {
   "cell_type": "code",
   "execution_count": 12,
   "id": "87c4604d",
   "metadata": {},
   "outputs": [
    {
     "data": {
      "text/plain": [
       "0.9999999999999996"
      ]
     },
     "execution_count": 12,
     "metadata": {},
     "output_type": "execute_result"
    }
   ],
   "source": [
    "alpha,beta,n,x=1,1,10,5 # n=number of trials, x=success\n",
    "beta_distribution = stats.beta(a=1,b=1)\n",
    "beta_distribution.pdf(0.5)"
   ]
  },
  {
   "cell_type": "code",
   "execution_count": 18,
   "id": "abcf4849",
   "metadata": {},
   "outputs": [],
   "source": [
    "import numpy as np; import matplotlib.pyplot as plt\n",
    "parameter_domain = np.linspace(0,1,1001)\n",
    "likelihood = stats.binom.pmf(n=n, k=x, p=parameter_domain)\n",
    "prior = stats.beta(a=alpha,b=beta).pdf(parameter_domain)\n",
    "posterior = stats.beta(a=x+alpha,b=n-x+beta).pdf(parameter_domain)"
   ]
  },
  {
   "cell_type": "markdown",
   "id": "b185da18",
   "metadata": {},
   "source": [
    "### data 2"
   ]
  },
  {
   "cell_type": "code",
   "execution_count": 20,
   "id": "5a812619",
   "metadata": {},
   "outputs": [
    {
     "data": {
      "text/plain": [
       "array([1])"
      ]
     },
     "execution_count": 20,
     "metadata": {},
     "output_type": "execute_result"
    }
   ],
   "source": [
    "stats.binom(n=1,p=0.3).rvs(size=1)"
   ]
  },
  {
   "cell_type": "code",
   "execution_count": 22,
   "id": "71feb0ea",
   "metadata": {},
   "outputs": [
    {
     "name": "stdout",
     "output_type": "stream",
     "text": [
      "I print when `i` is 1\n",
      "I print when `i` is 5\n",
      "I print when `i` is 7\n"
     ]
    }
   ],
   "source": [
    "for i in range(10):\n",
    "    if stats.binom(n=1,p=0.3).rvs(size=1) == 1:\n",
    "        print('I print when `i` is', i)"
   ]
  },
  {
   "cell_type": "code",
   "execution_count": 23,
   "id": "c3a4b5fd",
   "metadata": {},
   "outputs": [
    {
     "data": {
      "text/plain": [
       "0.9999999999999996"
      ]
     },
     "execution_count": 23,
     "metadata": {},
     "output_type": "execute_result"
    }
   ],
   "source": [
    "alpha,beta,n,x=1,1,10,5\n",
    "beta_distribution = stats.beta(a=1,b=1)\n",
    "beta_distribution.pdf(0.3)"
   ]
  },
  {
   "cell_type": "markdown",
   "id": "326aae27",
   "metadata": {},
   "source": [
    "### data 3"
   ]
  },
  {
   "cell_type": "code",
   "execution_count": 26,
   "id": "7b16271c",
   "metadata": {},
   "outputs": [
    {
     "data": {
      "text/plain": [
       "array([0])"
      ]
     },
     "execution_count": 26,
     "metadata": {},
     "output_type": "execute_result"
    }
   ],
   "source": [
    "stats.binom(n=1,p=0.6).rvs(size=1)"
   ]
  },
  {
   "cell_type": "code",
   "execution_count": 27,
   "id": "bc10b074",
   "metadata": {},
   "outputs": [
    {
     "name": "stdout",
     "output_type": "stream",
     "text": [
      "I print when `i` is 2\n",
      "I print when `i` is 4\n",
      "I print when `i` is 7\n",
      "I print when `i` is 9\n"
     ]
    }
   ],
   "source": [
    "for i in range(10):\n",
    "    if stats.binom(n=1,p=0.6).rvs(size=1) == 1:\n",
    "        print('I print when `i` is', i)"
   ]
  },
  {
   "cell_type": "code",
   "execution_count": 28,
   "id": "5b3bd8e1",
   "metadata": {},
   "outputs": [
    {
     "data": {
      "text/plain": [
       "0.9999999999999997"
      ]
     },
     "execution_count": 28,
     "metadata": {},
     "output_type": "execute_result"
    }
   ],
   "source": [
    "alpha,beta,n,x=1,1,10,5\n",
    "beta_distribution = stats.beta(a=1,b=1)\n",
    "beta_distribution.pdf(0.6) #plausibility that 0.6 is true probability"
   ]
  },
  {
   "cell_type": "code",
   "execution_count": null,
   "id": "7a01c97f",
   "metadata": {},
   "outputs": [],
   "source": [
    "## simulation 1 (0.6)"
   ]
  },
  {
   "cell_type": "code",
   "execution_count": 47,
   "id": "42d37bae",
   "metadata": {},
   "outputs": [],
   "source": [
    "simulation_results_1 = stats.binom(n=10,p=0.6).rvs(size=1)\n",
    "x=np.sum(simulation_results_1)\n",
    "n=10"
   ]
  },
  {
   "cell_type": "code",
   "execution_count": 49,
   "id": "8c5b6765",
   "metadata": {},
   "outputs": [],
   "source": [
    "likelihood = stats.binom.pmf(n=n, k=x, p=parameter_domain)\n",
    "prior = stats.beta(a=alpha,b=beta).pdf(parameter_domain)\n",
    "posterior = stats.beta(a=x+alpha,b=n-x+beta).pdf(parameter_domain)"
   ]
  },
  {
   "cell_type": "code",
   "execution_count": 54,
   "id": "7418ae44",
   "metadata": {},
   "outputs": [
    {
     "data": {
      "text/plain": [
       "array([0.00000000e+00, 4.94010495e-22, 1.26213627e-19, ...,\n",
       "       1.94854088e-03, 4.91053832e-04, 0.00000000e+00])"
      ]
     },
     "execution_count": 54,
     "metadata": {},
     "output_type": "execute_result"
    }
   ],
   "source": [
    "prior"
   ]
  },
  {
   "cell_type": "code",
   "execution_count": 55,
   "id": "fb9f291b",
   "metadata": {},
   "outputs": [
    {
     "data": {
      "text/plain": [
       "array([0.00000000e+00, 4.94010495e-22, 1.26213627e-19, ...,\n",
       "       1.94854088e-03, 4.91053832e-04, 0.00000000e+00])"
      ]
     },
     "execution_count": 55,
     "metadata": {},
     "output_type": "execute_result"
    }
   ],
   "source": [
    "posterior"
   ]
  },
  {
   "cell_type": "code",
   "execution_count": 53,
   "id": "703dffb5",
   "metadata": {},
   "outputs": [
    {
     "data": {
      "text/plain": [
       "1.3302558719999986"
      ]
     },
     "execution_count": 53,
     "metadata": {},
     "output_type": "execute_result"
    }
   ],
   "source": [
    "beta_distribution = stats.beta(a=x+alpha,b=n-x+beta)\n",
    "beta_distribution.pdf(0.6)"
   ]
  },
  {
   "cell_type": "code",
   "execution_count": null,
   "id": "b86ff191",
   "metadata": {},
   "outputs": [],
   "source": [
    "## simulation 2 (0.5)"
   ]
  },
  {
   "cell_type": "code",
   "execution_count": 57,
   "id": "4fb43e9d",
   "metadata": {},
   "outputs": [],
   "source": [
    "simulation_results_2 = stats.binom(n=10,p=0.5).rvs(size=1)\n",
    "x=np.sum(simulation_results_2)\n",
    "n=10"
   ]
  },
  {
   "cell_type": "code",
   "execution_count": 58,
   "id": "ba6ea4bd",
   "metadata": {},
   "outputs": [],
   "source": [
    "likelihood = stats.binom.pmf(n=n, k=x, p=parameter_domain)\n",
    "prior = stats.beta(a=alpha,b=beta).pdf(parameter_domain)\n",
    "posterior = stats.beta(a=x+alpha,b=n-x+beta).pdf(parameter_domain)"
   ]
  },
  {
   "cell_type": "code",
   "execution_count": 59,
   "id": "43dcb7f5",
   "metadata": {},
   "outputs": [
    {
     "data": {
      "text/plain": [
       "2.7070312500000004"
      ]
     },
     "execution_count": 59,
     "metadata": {},
     "output_type": "execute_result"
    }
   ],
   "source": [
    "beta_distribution = stats.beta(a=x+alpha,b=n-x+beta)\n",
    "beta_distribution.pdf(0.5)"
   ]
  },
  {
   "cell_type": "code",
   "execution_count": null,
   "id": "5efe1220",
   "metadata": {},
   "outputs": [],
   "source": [
    "## simulation 3 (0.3)"
   ]
  },
  {
   "cell_type": "code",
   "execution_count": 60,
   "id": "0d679404",
   "metadata": {},
   "outputs": [],
   "source": [
    "simulation_results_3 = stats.binom(n=10,p=0.3).rvs(size=1)\n",
    "x=np.sum(simulation_results_3)\n",
    "n=10"
   ]
  },
  {
   "cell_type": "code",
   "execution_count": 61,
   "id": "ccae363b",
   "metadata": {},
   "outputs": [],
   "source": [
    "likelihood = stats.binom.pmf(n=n, k=x, p=parameter_domain)\n",
    "prior = stats.beta(a=alpha,b=beta).pdf(parameter_domain)\n",
    "posterior = stats.beta(a=x+alpha,b=n-x+beta).pdf(parameter_domain)"
   ]
  },
  {
   "cell_type": "code",
   "execution_count": 62,
   "id": "b7ea6ce7",
   "metadata": {},
   "outputs": [
    {
     "data": {
      "text/plain": [
       "1.3316690309999988"
      ]
     },
     "execution_count": 62,
     "metadata": {},
     "output_type": "execute_result"
    }
   ],
   "source": [
    "beta_distribution = stats.beta(a=x+alpha,b=n-x+beta)\n",
    "beta_distribution.pdf(0.3)"
   ]
  },
  {
   "cell_type": "code",
   "execution_count": null,
   "id": "b04f03d2",
   "metadata": {},
   "outputs": [],
   "source": [
    "## simulation 4 (0.6)"
   ]
  },
  {
   "cell_type": "code",
   "execution_count": 63,
   "id": "8f5eb5f7",
   "metadata": {},
   "outputs": [],
   "source": [
    "simulation_results_4 = stats.binom(n=100,p=0.6).rvs(size=1)\n",
    "x=np.sum(simulation_results_4)\n",
    "n=100"
   ]
  },
  {
   "cell_type": "code",
   "execution_count": 64,
   "id": "b849cf97",
   "metadata": {},
   "outputs": [],
   "source": [
    "likelihood = stats.binom.pmf(n=n, k=x, p=parameter_domain)\n",
    "prior = stats.beta(a=alpha,b=beta).pdf(parameter_domain)\n",
    "posterior = stats.beta(a=x+alpha,b=n-x+beta).pdf(parameter_domain)"
   ]
  },
  {
   "cell_type": "code",
   "execution_count": 65,
   "id": "1dea7622",
   "metadata": {},
   "outputs": [
    {
     "data": {
      "text/plain": [
       "4.8289291904390845"
      ]
     },
     "execution_count": 65,
     "metadata": {},
     "output_type": "execute_result"
    }
   ],
   "source": [
    "beta_distribution = stats.beta(a=x+alpha,b=n-x+beta)\n",
    "beta_distribution.pdf(0.6)"
   ]
  },
  {
   "cell_type": "code",
   "execution_count": 66,
   "id": "8258e0c0",
   "metadata": {},
   "outputs": [],
   "source": [
    "simulation_results_5 = stats.binom(n=100,p=0.5).rvs(size=1)\n",
    "x=np.sum(simulation_results_5)\n",
    "n=100"
   ]
  },
  {
   "cell_type": "code",
   "execution_count": 67,
   "id": "cf8c6591",
   "metadata": {},
   "outputs": [],
   "source": [
    "likelihood = stats.binom.pmf(n=n, k=x, p=parameter_domain)\n",
    "prior = stats.beta(a=alpha,b=beta).pdf(parameter_domain)\n",
    "posterior = stats.beta(a=x+alpha,b=n-x+beta).pdf(parameter_domain)"
   ]
  },
  {
   "cell_type": "code",
   "execution_count": 68,
   "id": "42255f00",
   "metadata": {},
   "outputs": [
    {
     "data": {
      "text/plain": [
       "7.42622805107745"
      ]
     },
     "execution_count": 68,
     "metadata": {},
     "output_type": "execute_result"
    }
   ],
   "source": [
    "beta_distribution = stats.beta(a=x+alpha,b=n-x+beta)\n",
    "beta_distribution.pdf(0.5)"
   ]
  },
  {
   "cell_type": "code",
   "execution_count": 93,
   "id": "feed8b18",
   "metadata": {},
   "outputs": [],
   "source": [
    "simulation_results_6 = stats.binom(n=100,p=0.3).rvs(size=1)\n",
    "x=np.sum(simulation_results_6)\n",
    "n=100"
   ]
  },
  {
   "cell_type": "code",
   "execution_count": 94,
   "id": "f338d4ff",
   "metadata": {},
   "outputs": [],
   "source": [
    "likelihood = stats.binom.pmf(n=n, k=x, p=parameter_domain)\n",
    "prior = stats.beta(a=alpha,b=beta).pdf(parameter_domain)\n",
    "posterior = stats.beta(a=x+alpha,b=n-x+beta).pdf(parameter_domain)"
   ]
  },
  {
   "cell_type": "code",
   "execution_count": 95,
   "id": "b48913fd",
   "metadata": {},
   "outputs": [
    {
     "data": {
      "text/plain": [
       "8.641717236714602"
      ]
     },
     "execution_count": 95,
     "metadata": {},
     "output_type": "execute_result"
    }
   ],
   "source": [
    "beta_distribution = stats.beta(a=x+alpha,b=n-x+beta)\n",
    "beta_distribution.pdf(0.3)"
   ]
  },
  {
   "cell_type": "code",
   "execution_count": null,
   "id": "efe1b09b",
   "metadata": {},
   "outputs": [],
   "source": []
  },
  {
   "cell_type": "code",
   "execution_count": 101,
   "id": "7f7cf6d2",
   "metadata": {},
   "outputs": [
    {
     "data": {
      "text/plain": [
       "11.254309686260063"
      ]
     },
     "execution_count": 101,
     "metadata": {},
     "output_type": "execute_result"
    }
   ],
   "source": [
    "simulation_results_7 = stats.binom(n=200,p=0.3).rvs(size=1)\n",
    "x=np.sum(simulation_results_7)\n",
    "n=200\n",
    "likelihood = stats.binom.pmf(n=n, k=x, p=parameter_domain)\n",
    "prior = stats.beta(a=alpha,b=beta).pdf(parameter_domain)\n",
    "posterior = stats.beta(a=x+alpha,b=n-x+beta).pdf(parameter_domain)\n",
    "beta_distribution = stats.beta(a=x+alpha,b=n-x+beta)\n",
    "beta_distribution.pdf(0.3)"
   ]
  },
  {
   "cell_type": "code",
   "execution_count": 102,
   "id": "ac5be9b5",
   "metadata": {},
   "outputs": [
    {
     "data": {
      "text/plain": [
       "6.006315592753466"
      ]
     },
     "execution_count": 102,
     "metadata": {},
     "output_type": "execute_result"
    }
   ],
   "source": [
    "simulation_results_8 = stats.binom(n=200,p=0.6).rvs(size=1)\n",
    "x=np.sum(simulation_results_8)\n",
    "n=200\n",
    "likelihood = stats.binom.pmf(n=n, k=x, p=parameter_domain)\n",
    "prior = stats.beta(a=alpha,b=beta).pdf(parameter_domain)\n",
    "posterior = stats.beta(a=x+alpha,b=n-x+beta).pdf(parameter_domain)\n",
    "beta_distribution = stats.beta(a=x+alpha,b=n-x+beta)\n",
    "beta_distribution.pdf(0.6)"
   ]
  },
  {
   "cell_type": "code",
   "execution_count": 103,
   "id": "7b54f290",
   "metadata": {},
   "outputs": [
    {
     "data": {
      "text/plain": [
       "8.830821050184086"
      ]
     },
     "execution_count": 103,
     "metadata": {},
     "output_type": "execute_result"
    }
   ],
   "source": [
    "simulation_results_9 = stats.binom(n=200,p=0.5).rvs(size=1)\n",
    "x=np.sum(simulation_results_9)\n",
    "n=200\n",
    "likelihood = stats.binom.pmf(n=n, k=x, p=parameter_domain)\n",
    "prior = stats.beta(a=alpha,b=beta).pdf(parameter_domain)\n",
    "posterior = stats.beta(a=x+alpha,b=n-x+beta).pdf(parameter_domain)\n",
    "beta_distribution = stats.beta(a=x+alpha,b=n-x+beta)\n",
    "beta_distribution.pdf(0.5)"
   ]
  },
  {
   "cell_type": "code",
   "execution_count": 104,
   "id": "ded67d4b",
   "metadata": {},
   "outputs": [
    {
     "data": {
      "text/plain": [
       "13.983452411313738"
      ]
     },
     "execution_count": 104,
     "metadata": {},
     "output_type": "execute_result"
    }
   ],
   "source": [
    "simulation_results_7 = stats.binom(n=700,p=0.3).rvs(size=1)\n",
    "x=np.sum(simulation_results_7)\n",
    "n=700\n",
    "likelihood = stats.binom.pmf(n=n, k=x, p=parameter_domain)\n",
    "prior = stats.beta(a=alpha,b=beta).pdf(parameter_domain)\n",
    "posterior = stats.beta(a=x+alpha,b=n-x+beta).pdf(parameter_domain)\n",
    "beta_distribution = stats.beta(a=x+alpha,b=n-x+beta)\n",
    "beta_distribution.pdf(0.3)"
   ]
  },
  {
   "cell_type": "markdown",
   "id": "ab19fe6e",
   "metadata": {},
   "source": [
    "The data I chose are 0.3, 0.5 and 0.6. I tried simulations of their binomial distributions, with increasing number of distributions. I found 0.3 to be the best. "
   ]
  }
 ],
 "metadata": {
  "kernelspec": {
   "display_name": "Python 3 (ipykernel)",
   "language": "python",
   "name": "python3"
  },
  "language_info": {
   "codemirror_mode": {
    "name": "ipython",
    "version": 3
   },
   "file_extension": ".py",
   "mimetype": "text/x-python",
   "name": "python",
   "nbconvert_exporter": "python",
   "pygments_lexer": "ipython3",
   "version": "3.11.6"
  }
 },
 "nbformat": 4,
 "nbformat_minor": 5
}
